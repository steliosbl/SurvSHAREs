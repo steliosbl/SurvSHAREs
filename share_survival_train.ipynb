{
 "cells": [
  {
   "cell_type": "code",
   "execution_count": 1,
   "id": "47376eaa",
   "metadata": {},
   "outputs": [],
   "source": [
    "import numpy as np\n",
    "import pandas as pd\n",
    "from pathlib import Path\n",
    "import torch\n",
    "\n",
    "%load_ext autoreload\n",
    "%autoreload 2"
   ]
  },
  {
   "cell_type": "code",
   "execution_count": 2,
   "id": "c1e37ab6",
   "metadata": {},
   "outputs": [],
   "source": [
    "from survshares.datasets import Rossi, Metabric, GBSG2\n",
    "from sklearn.model_selection import train_test_split\n",
    "# Prepare dataset\n",
    "dataset = Metabric()\n",
    "X, T, E = dataset.load(normalise=False)\n",
    "X_train, X_test, T_train, T_test, E_train, E_test = train_test_split(\n",
    "    X, T, E, test_size=0.2, random_state=42\n",
    ")"
   ]
  },
  {
   "cell_type": "code",
   "execution_count": 3,
   "id": "437ce717",
   "metadata": {},
   "outputs": [],
   "source": [
    "from survshares.metrics import negative_pll \n",
    "from gplearn.gplearn.fitness import make_fitness\n",
    "\n",
    "def fitness_npll_shrink(y_true, y_pred, sample_weight):\n",
    "    \"\"\"\n",
    "    Partial log-likelihood with shrink penalty for gplearn. Smaller is better.\n",
    "    \"\"\"\n",
    "    pll = negative_pll(y_true, y_pred, sample_weight)\n",
    "    result = pll + 0.05 * np.abs(y_pred).mean()\n",
    "    if np.isinf(result):\n",
    "        result = np.inf # Cover -inf with +inf\n",
    "    return result\n",
    "\n",
    "\n",
    "fitness_npll_shrink = make_fitness(\n",
    "    function=fitness_npll_shrink, greater_is_better=False\n",
    ")"
   ]
  },
  {
   "cell_type": "code",
   "execution_count": 26,
   "id": "15aa0474",
   "metadata": {},
   "outputs": [
    {
     "name": "stderr",
     "output_type": "stream",
     "text": [
      "/Users/stybl/mamba/envs/shares/lib/python3.11/site-packages/sklearn/base.py:474: FutureWarning: `BaseEstimator._validate_data` is deprecated in 1.6 and will be removed in 1.7. Use `sklearn.utils.validation.validate_data` instead. This function becomes public and is part of the scikit-learn developer API.\n",
      "  warnings.warn(\n",
      "GPU available: True (mps), used: False\n",
      "TPU available: False, using: 0 TPU cores\n",
      "HPU available: False, using: 0 HPUs\n"
     ]
    },
    {
     "name": "stdout",
     "output_type": "stream",
     "text": [
      "    |   Population Average    |             Best Individual              |\n",
      "---- ------------------------- ------------------------------------------ ----------\n",
      " Gen   Length          Fitness   Length          Fitness      OOB Fitness  Time Left\n",
      "None -> None -> add(shape(div(add(X8, mul(X0, X7)), mul(X6, shape(X5)))), shape(X3))\n",
      "add(shape(div(add(X8, mul(X0, shape(X7))), mul(shape(X6), shape(X5)))), shape(X3))\n"
     ]
    },
    {
     "name": "stderr",
     "output_type": "stream",
     "text": [
      "/Users/stybl/mamba/envs/shares/lib/python3.11/site-packages/pytorch_lightning/trainer/setup.py:177: GPU available but not used. You can set it by doing `Trainer(accelerator='gpu')`.\n",
      "/Users/stybl/mamba/envs/shares/lib/python3.11/site-packages/pytorch_lightning/trainer/configuration_validator.py:70: You defined a `validation_step` but have no `val_dataloader`. Skipping val loop.\n"
     ]
    },
    {
     "data": {
      "application/vnd.jupyter.widget-view+json": {
       "model_id": "ec1eb90f9a0b4a8095d9aac75b114349",
       "version_major": 2,
       "version_minor": 0
      },
      "text/plain": [
       "Finding best initial lr:   0%|          | 0/100 [00:00<?, ?it/s]"
      ]
     },
     "metadata": {},
     "output_type": "display_data"
    },
    {
     "name": "stderr",
     "output_type": "stream",
     "text": [
      "LR finder stopped early after 97 steps due to diverging loss.\n",
      "Learning rate set to 0.036307805477010104\n",
      "Restoring states from the checkpoint path at data/lightning_logs/.lr_find_064e838d-a711-47e2-ac41-e1a2a9653987.ckpt\n",
      "Restored all states from the checkpoint at data/lightning_logs/.lr_find_064e838d-a711-47e2-ac41-e1a2a9653987.ckpt\n",
      "`Trainer.fit` stopped: `max_epochs=100` reached.\n",
      "/Users/stybl/Source/SurvSHAREs/gplearn/gplearn/_program.py:1084: FutureWarning: The behavior of DataFrame concatenation with empty or all-NA entries is deprecated. In a future version, this will no longer exclude empty or all-NA columns when determining the result dtypes. To retain the old behavior, exclude the relevant entries before the concat operation.\n",
      "  dictionary = pd.concat([dictionary,new_row],ignore_index=True)\n",
      "GPU available: True (mps), used: False\n",
      "TPU available: False, using: 0 TPU cores\n",
      "HPU available: False, using: 0 HPUs\n"
     ]
    },
    {
     "name": "stdout",
     "output_type": "stream",
     "text": [
      "add(shape(div(add(X8, mul(X0, shape(X7))), mul(shape(X6), shape(X5)))), shape(X3))\n",
      "add(shape(div(add(X8, mul(X0, shape(X7))), mul(shape(X6), shape(X5)))), shape(X3)) | raw_fitness: 5.178367614746094\n",
      "1\n",
      "Min error so far: 5.178367614746094\n",
      "None -> None -> mul(mul(div(shape(X1), X4), div(X6, X2)), shape(mul(X5, X0)))\n",
      "mul(mul(div(shape(X1), shape(X4)), div(shape(X6), X2)), shape(mul(shape(X5), X0)))\n"
     ]
    },
    {
     "name": "stderr",
     "output_type": "stream",
     "text": [
      "/Users/stybl/mamba/envs/shares/lib/python3.11/site-packages/pytorch_lightning/trainer/setup.py:177: GPU available but not used. You can set it by doing `Trainer(accelerator='gpu')`.\n",
      "/Users/stybl/mamba/envs/shares/lib/python3.11/site-packages/pytorch_lightning/trainer/configuration_validator.py:70: You defined a `validation_step` but have no `val_dataloader`. Skipping val loop.\n",
      "/Users/stybl/mamba/envs/shares/lib/python3.11/site-packages/pytorch_lightning/callbacks/model_checkpoint.py:654: Checkpoint directory /Users/stybl/Source/SurvSHAREs/data/checkpoints/survshare_rossi/2025-05-24T21.02.28 exists and is not empty.\n"
     ]
    },
    {
     "data": {
      "application/vnd.jupyter.widget-view+json": {
       "model_id": "2e569127fff6413a81a8c500afecb28a",
       "version_major": 2,
       "version_minor": 0
      },
      "text/plain": [
       "Finding best initial lr:   0%|          | 0/100 [00:00<?, ?it/s]"
      ]
     },
     "metadata": {},
     "output_type": "display_data"
    },
    {
     "name": "stderr",
     "output_type": "stream",
     "text": [
      "LR finder stopped early after 97 steps due to diverging loss.\n",
      "Learning rate set to 0.47863009232263803\n",
      "Restoring states from the checkpoint path at data/lightning_logs/.lr_find_66808c9d-9e87-4de5-bd7d-597380446ef8.ckpt\n",
      "Restored all states from the checkpoint at data/lightning_logs/.lr_find_66808c9d-9e87-4de5-bd7d-597380446ef8.ckpt\n",
      "`Trainer.fit` stopped: `max_epochs=100` reached.\n",
      "GPU available: True (mps), used: False\n",
      "TPU available: False, using: 0 TPU cores\n",
      "HPU available: False, using: 0 HPUs\n"
     ]
    },
    {
     "name": "stdout",
     "output_type": "stream",
     "text": [
      "mul(mul(div(shape(X1), shape(X4)), div(shape(X6), X2)), shape(mul(shape(X5), X0)))\n",
      "mul(mul(div(shape(X1), shape(X4)), div(shape(X6), X2)), shape(mul(shape(X5), X0))) | raw_fitness: 5.364009380340576\n",
      "2\n",
      "Min error so far: 5.178367614746094\n",
      "None -> None -> add(add(X3, shape(X6)), div(add(X7, shape(X2)), mul(X0, mul(mul(X8, div(shape(X5), shape(X4))), shape(X1)))))\n",
      "add(add(X3, shape(X6)), div(add(shape(X7), shape(X2)), mul(X0, mul(mul(X8, div(shape(X5), shape(X4))), shape(X1)))))\n"
     ]
    },
    {
     "name": "stderr",
     "output_type": "stream",
     "text": [
      "/Users/stybl/mamba/envs/shares/lib/python3.11/site-packages/pytorch_lightning/trainer/setup.py:177: GPU available but not used. You can set it by doing `Trainer(accelerator='gpu')`.\n",
      "/Users/stybl/mamba/envs/shares/lib/python3.11/site-packages/pytorch_lightning/trainer/configuration_validator.py:70: You defined a `validation_step` but have no `val_dataloader`. Skipping val loop.\n",
      "/Users/stybl/mamba/envs/shares/lib/python3.11/site-packages/pytorch_lightning/callbacks/model_checkpoint.py:654: Checkpoint directory /Users/stybl/Source/SurvSHAREs/data/checkpoints/survshare_rossi/2025-05-24T21.02.28 exists and is not empty.\n"
     ]
    },
    {
     "data": {
      "application/vnd.jupyter.widget-view+json": {
       "model_id": "1d7a08778da34655a9b282eeb904eb67",
       "version_major": 2,
       "version_minor": 0
      },
      "text/plain": [
       "Finding best initial lr:   0%|          | 0/100 [00:00<?, ?it/s]"
      ]
     },
     "metadata": {},
     "output_type": "display_data"
    },
    {
     "name": "stderr",
     "output_type": "stream",
     "text": [
      "`Trainer.fit` stopped: `max_steps=100` reached.\n",
      "Learning rate set to 0.003311311214825908\n",
      "Restoring states from the checkpoint path at data/lightning_logs/.lr_find_b5b81a2a-b6ed-4249-9ce2-311030f0a9a9.ckpt\n",
      "Restored all states from the checkpoint at data/lightning_logs/.lr_find_b5b81a2a-b6ed-4249-9ce2-311030f0a9a9.ckpt\n",
      "`Trainer.fit` stopped: `max_epochs=100` reached.\n",
      "GPU available: True (mps), used: False\n",
      "TPU available: False, using: 0 TPU cores\n",
      "HPU available: False, using: 0 HPUs\n"
     ]
    },
    {
     "name": "stdout",
     "output_type": "stream",
     "text": [
      "add(add(X3, shape(X6)), div(add(shape(X7), shape(X2)), mul(X0, mul(mul(X8, div(shape(X5), shape(X4))), shape(X1)))))\n",
      "add(add(X3, shape(X6)), div(add(shape(X7), shape(X2)), mul(X0, mul(mul(X8, div(shape(X5), shape(X4))), shape(X1))))) | raw_fitness: 5.58730411529541\n",
      "3\n",
      "Min error so far: 5.178367614746094\n",
      "None -> None -> div(shape(div(add(mul(X4, X6), X3), add(shape(X5), X1))), shape(X0))\n",
      "div(shape(div(add(mul(shape(X4), shape(X6)), X3), add(shape(X5), X1))), shape(X0))\n"
     ]
    },
    {
     "name": "stderr",
     "output_type": "stream",
     "text": [
      "/Users/stybl/mamba/envs/shares/lib/python3.11/site-packages/pytorch_lightning/trainer/setup.py:177: GPU available but not used. You can set it by doing `Trainer(accelerator='gpu')`.\n",
      "/Users/stybl/mamba/envs/shares/lib/python3.11/site-packages/pytorch_lightning/trainer/configuration_validator.py:70: You defined a `validation_step` but have no `val_dataloader`. Skipping val loop.\n",
      "/Users/stybl/mamba/envs/shares/lib/python3.11/site-packages/pytorch_lightning/callbacks/model_checkpoint.py:654: Checkpoint directory /Users/stybl/Source/SurvSHAREs/data/checkpoints/survshare_rossi/2025-05-24T21.02.28 exists and is not empty.\n"
     ]
    },
    {
     "data": {
      "application/vnd.jupyter.widget-view+json": {
       "model_id": "4e71af01d13a4b599efe0d3c39f7e609",
       "version_major": 2,
       "version_minor": 0
      },
      "text/plain": [
       "Finding best initial lr:   0%|          | 0/100 [00:00<?, ?it/s]"
      ]
     },
     "metadata": {},
     "output_type": "display_data"
    },
    {
     "name": "stderr",
     "output_type": "stream",
     "text": [
      "`Trainer.fit` stopped: `max_steps=100` reached.\n",
      "Learning rate set to 0.0019054607179632484\n",
      "Restoring states from the checkpoint path at data/lightning_logs/.lr_find_f58c1578-d1f6-4936-808f-54d3491f0079.ckpt\n",
      "Restored all states from the checkpoint at data/lightning_logs/.lr_find_f58c1578-d1f6-4936-808f-54d3491f0079.ckpt\n",
      "`Trainer.fit` stopped: `max_epochs=100` reached.\n",
      "GPU available: True (mps), used: False\n",
      "TPU available: False, using: 0 TPU cores\n",
      "HPU available: False, using: 0 HPUs\n"
     ]
    },
    {
     "name": "stdout",
     "output_type": "stream",
     "text": [
      "div(shape(div(add(mul(shape(X4), shape(X6)), X3), add(shape(X5), X1))), shape(X0))\n",
      "div(shape(div(add(mul(shape(X4), shape(X6)), X3), add(shape(X5), X1))), shape(X0)) | raw_fitness: 5.382221698760986\n",
      "4\n",
      "Min error so far: 5.178367614746094\n",
      "None -> None -> shape(div(shape(mul(mul(shape(mul(add(shape(mul(mul(add(shape(X7), shape(X6)), shape(X3)), shape(X4))), shape(X1)), shape(X8))), shape(X0)), shape(X2))), shape(X5)))\n",
      "shape(div(shape(mul(mul(shape(mul(add(shape(mul(mul(add(shape(X7), shape(X6)), shape(X3)), shape(X4))), shape(X1)), shape(X8))), shape(X0)), shape(X2))), shape(X5)))\n"
     ]
    },
    {
     "name": "stderr",
     "output_type": "stream",
     "text": [
      "/Users/stybl/mamba/envs/shares/lib/python3.11/site-packages/pytorch_lightning/trainer/setup.py:177: GPU available but not used. You can set it by doing `Trainer(accelerator='gpu')`.\n",
      "/Users/stybl/mamba/envs/shares/lib/python3.11/site-packages/pytorch_lightning/trainer/configuration_validator.py:70: You defined a `validation_step` but have no `val_dataloader`. Skipping val loop.\n",
      "/Users/stybl/mamba/envs/shares/lib/python3.11/site-packages/pytorch_lightning/callbacks/model_checkpoint.py:654: Checkpoint directory /Users/stybl/Source/SurvSHAREs/data/checkpoints/survshare_rossi/2025-05-24T21.02.28 exists and is not empty.\n"
     ]
    },
    {
     "data": {
      "application/vnd.jupyter.widget-view+json": {
       "model_id": "ce9064b45f644947bcd7c247c5ffefbd",
       "version_major": 2,
       "version_minor": 0
      },
      "text/plain": [
       "Finding best initial lr:   0%|          | 0/100 [00:00<?, ?it/s]"
      ]
     },
     "metadata": {},
     "output_type": "display_data"
    },
    {
     "name": "stderr",
     "output_type": "stream",
     "text": [
      "LR finder stopped early after 99 steps due to diverging loss.\n",
      "Learning rate set to 0.01\n",
      "Restoring states from the checkpoint path at data/lightning_logs/.lr_find_a28ce884-e3ee-418f-9d5d-01fa2cfdf918.ckpt\n",
      "Restored all states from the checkpoint at data/lightning_logs/.lr_find_a28ce884-e3ee-418f-9d5d-01fa2cfdf918.ckpt\n",
      "`Trainer.fit` stopped: `max_epochs=100` reached.\n",
      "GPU available: True (mps), used: False\n",
      "TPU available: False, using: 0 TPU cores\n",
      "HPU available: False, using: 0 HPUs\n"
     ]
    },
    {
     "name": "stdout",
     "output_type": "stream",
     "text": [
      "shape(div(shape(mul(mul(shape(mul(add(shape(mul(mul(add(shape(X7), shape(X6)), shape(X3)), shape(X4))), shape(X1)), shape(X8))), shape(X0)), shape(X2))), shape(X5)))\n",
      "shape(div(shape(mul(mul(shape(mul(add(shape(mul(mul(add(shape(X7), shape(X6)), shape(X3)), shape(X4))), shape(X1)), shape(X8))), shape(X0)), shape(X2))), shape(X5))) | raw_fitness: 5.200658798217773\n",
      "5\n",
      "Min error so far: 5.178367614746094\n",
      "Best program: add(shape(div(add(X8, mul(X0, shape(X7))), mul(shape(X6), shape(X5)))), shape(X3))\n",
      "   0    20.20          5.34251       16          5.17837              N/A      1.16m\n",
      "mul(mul(div(shape(X1), shape(X4)), div(shape(X6), X2)), shape(mul(shape(X5), X0))) -> Point Mutation -> add(mul(div(shape(X8), shape(X4)), div(shape(X6), X2)), shape(mul(shape(X5), X0)))\n",
      "add(mul(div(shape(X8), shape(X4)), div(shape(X6), X2)), shape(mul(shape(X5), X0)))\n"
     ]
    },
    {
     "name": "stderr",
     "output_type": "stream",
     "text": [
      "/Users/stybl/mamba/envs/shares/lib/python3.11/site-packages/pytorch_lightning/trainer/setup.py:177: GPU available but not used. You can set it by doing `Trainer(accelerator='gpu')`.\n",
      "/Users/stybl/mamba/envs/shares/lib/python3.11/site-packages/pytorch_lightning/trainer/configuration_validator.py:70: You defined a `validation_step` but have no `val_dataloader`. Skipping val loop.\n",
      "/Users/stybl/mamba/envs/shares/lib/python3.11/site-packages/pytorch_lightning/callbacks/model_checkpoint.py:654: Checkpoint directory /Users/stybl/Source/SurvSHAREs/data/checkpoints/survshare_rossi/2025-05-24T21.02.28 exists and is not empty.\n"
     ]
    },
    {
     "data": {
      "application/vnd.jupyter.widget-view+json": {
       "model_id": "6cf6db0e2e1144dd9dd0b1ed92eb8993",
       "version_major": 2,
       "version_minor": 0
      },
      "text/plain": [
       "Finding best initial lr:   0%|          | 0/100 [00:00<?, ?it/s]"
      ]
     },
     "metadata": {},
     "output_type": "display_data"
    },
    {
     "name": "stderr",
     "output_type": "stream",
     "text": [
      "`Trainer.fit` stopped: `max_steps=100` reached.\n",
      "Learning rate set to 0.036307805477010104\n",
      "Restoring states from the checkpoint path at data/lightning_logs/.lr_find_354e627c-48d6-4161-962e-718395786ecc.ckpt\n",
      "Restored all states from the checkpoint at data/lightning_logs/.lr_find_354e627c-48d6-4161-962e-718395786ecc.ckpt\n",
      "`Trainer.fit` stopped: `max_epochs=100` reached.\n",
      "GPU available: True (mps), used: False\n",
      "TPU available: False, using: 0 TPU cores\n",
      "HPU available: False, using: 0 HPUs\n"
     ]
    },
    {
     "name": "stdout",
     "output_type": "stream",
     "text": [
      "add(mul(div(shape(X8), shape(X4)), div(shape(X6), X2)), shape(mul(shape(X5), X0)))\n",
      "add(mul(div(shape(X8), shape(X4)), div(shape(X6), X2)), shape(mul(shape(X5), X0))) | raw_fitness: 5.293681621551514\n",
      "6\n",
      "Min error so far: 5.178367614746094\n",
      "shape(div(shape(mul(mul(shape(mul(add(shape(mul(mul(add(shape(X7), shape(X6)), shape(X3)), shape(X4))), shape(X1)), shape(X8))), shape(X0)), shape(X2))), shape(X5))) -> Point Mutation -> shape(div(shape(mul(mul(shape(mul(add(shape(mul(mul(add(shape(X7), shape(X6)), shape(X3)), shape(X4))), shape(X1)), shape(X8))), shape(X0)), shape(X2))), shape(X5)))\n",
      "Retrieved score for shape(div(shape(mul(mul(shape(mul(add(shape(mul(mul(add(shape(X7), shape(X6)), shape(X3)), shape(X4))), shape(X1)), shape(X8))), shape(X0)), shape(X2))), shape(X5)))\n",
      "add(shape(div(add(X8, mul(X0, shape(X7))), mul(shape(X6), shape(X5)))), shape(X3)) -> Hoist Mutation -> add(shape(div(add(X8, mul(X0, shape(X7))), shape(X6))), shape(X3))\n",
      "add(shape(div(add(X8, mul(X0, shape(X7))), shape(X6))), shape(X3))\n"
     ]
    },
    {
     "name": "stderr",
     "output_type": "stream",
     "text": [
      "/Users/stybl/mamba/envs/shares/lib/python3.11/site-packages/pytorch_lightning/trainer/setup.py:177: GPU available but not used. You can set it by doing `Trainer(accelerator='gpu')`.\n",
      "/Users/stybl/mamba/envs/shares/lib/python3.11/site-packages/pytorch_lightning/trainer/configuration_validator.py:70: You defined a `validation_step` but have no `val_dataloader`. Skipping val loop.\n",
      "/Users/stybl/mamba/envs/shares/lib/python3.11/site-packages/pytorch_lightning/callbacks/model_checkpoint.py:654: Checkpoint directory /Users/stybl/Source/SurvSHAREs/data/checkpoints/survshare_rossi/2025-05-24T21.02.28 exists and is not empty.\n"
     ]
    },
    {
     "data": {
      "application/vnd.jupyter.widget-view+json": {
       "model_id": "baf5fd4220cb42ef849dad0db74c1ba1",
       "version_major": 2,
       "version_minor": 0
      },
      "text/plain": [
       "Finding best initial lr:   0%|          | 0/100 [00:00<?, ?it/s]"
      ]
     },
     "metadata": {},
     "output_type": "display_data"
    },
    {
     "name": "stderr",
     "output_type": "stream",
     "text": [
      "`Trainer.fit` stopped: `max_steps=100` reached.\n",
      "Learning rate set to 0.036307805477010104\n",
      "Restoring states from the checkpoint path at data/lightning_logs/.lr_find_b6cd40f4-8d60-43e1-89fd-30b1083fd390.ckpt\n",
      "Restored all states from the checkpoint at data/lightning_logs/.lr_find_b6cd40f4-8d60-43e1-89fd-30b1083fd390.ckpt\n",
      "`Trainer.fit` stopped: `max_epochs=100` reached.\n",
      "GPU available: True (mps), used: False\n",
      "TPU available: False, using: 0 TPU cores\n",
      "HPU available: False, using: 0 HPUs\n"
     ]
    },
    {
     "name": "stdout",
     "output_type": "stream",
     "text": [
      "add(shape(div(add(X8, mul(X0, shape(X7))), shape(X6))), shape(X3))\n",
      "add(shape(div(add(X8, mul(X0, shape(X7))), shape(X6))), shape(X3)) | raw_fitness: 5.2352166175842285\n",
      "7\n",
      "Min error so far: 5.178367614746094\n",
      "shape(div(shape(mul(mul(shape(mul(add(shape(mul(mul(add(shape(X7), shape(X6)), shape(X3)), shape(X4))), shape(X1)), shape(X8))), shape(X0)), shape(X2))), shape(X5))) -> Subtree Mutation -> shape(div(shape(mul(mul(shape(mul(add(div(mul(X6, add(shape(X3), shape(X7))), X4), shape(X1)), shape(X8))), shape(X0)), shape(X2))), shape(X5)))\n",
      "shape(div(shape(mul(mul(shape(mul(add(div(mul(shape(X6), add(shape(X3), shape(X7))), shape(X4)), shape(X1)), shape(X8))), shape(X0)), shape(X2))), shape(X5)))\n"
     ]
    },
    {
     "name": "stderr",
     "output_type": "stream",
     "text": [
      "/Users/stybl/mamba/envs/shares/lib/python3.11/site-packages/pytorch_lightning/trainer/setup.py:177: GPU available but not used. You can set it by doing `Trainer(accelerator='gpu')`.\n",
      "/Users/stybl/mamba/envs/shares/lib/python3.11/site-packages/pytorch_lightning/trainer/configuration_validator.py:70: You defined a `validation_step` but have no `val_dataloader`. Skipping val loop.\n",
      "/Users/stybl/mamba/envs/shares/lib/python3.11/site-packages/pytorch_lightning/callbacks/model_checkpoint.py:654: Checkpoint directory /Users/stybl/Source/SurvSHAREs/data/checkpoints/survshare_rossi/2025-05-24T21.02.28 exists and is not empty.\n"
     ]
    },
    {
     "data": {
      "application/vnd.jupyter.widget-view+json": {
       "model_id": "5c0d103df617400dad06513b4ad7a817",
       "version_major": 2,
       "version_minor": 0
      },
      "text/plain": [
       "Finding best initial lr:   0%|          | 0/100 [00:00<?, ?it/s]"
      ]
     },
     "metadata": {},
     "output_type": "display_data"
    },
    {
     "name": "stderr",
     "output_type": "stream",
     "text": [
      "`Trainer.fit` stopped: `max_steps=100` reached.\n",
      "Learning rate set to 0.5754399373371567\n",
      "Restoring states from the checkpoint path at data/lightning_logs/.lr_find_9790f664-571b-4caa-a585-f35ebd6d6ff0.ckpt\n",
      "Restored all states from the checkpoint at data/lightning_logs/.lr_find_9790f664-571b-4caa-a585-f35ebd6d6ff0.ckpt\n",
      "`Trainer.fit` stopped: `max_epochs=100` reached.\n",
      "GPU available: True (mps), used: False\n",
      "TPU available: False, using: 0 TPU cores\n",
      "HPU available: False, using: 0 HPUs\n"
     ]
    },
    {
     "name": "stdout",
     "output_type": "stream",
     "text": [
      "shape(div(shape(mul(mul(shape(mul(add(div(mul(shape(X6), add(shape(X3), shape(X7))), shape(X4)), shape(X1)), shape(X8))), shape(X0)), shape(X2))), shape(X5)))\n",
      "shape(div(shape(mul(mul(shape(mul(add(div(mul(shape(X6), add(shape(X3), shape(X7))), shape(X4)), shape(X1)), shape(X8))), shape(X0)), shape(X2))), shape(X5))) | raw_fitness: inf\n",
      "8\n",
      "Min error so far: 5.178367614746094\n",
      "add(shape(div(add(X8, mul(X0, shape(X7))), mul(shape(X6), shape(X5)))), shape(X3)) -> Reproduction -> add(shape(div(add(X8, mul(X0, shape(X7))), mul(shape(X6), shape(X5)))), shape(X3))\n",
      "Retrieved score for add(shape(div(add(X8, mul(X0, shape(X7))), mul(shape(X6), shape(X5)))), shape(X3))\n",
      "Best program: add(shape(div(add(X8, mul(X0, shape(X7))), mul(shape(X6), shape(X5)))), shape(X3))\n",
      "   1    20.80              inf       16          5.17837              N/A     31.69s\n",
      "add(shape(div(add(X8, mul(X0, shape(X7))), mul(shape(X6), shape(X5)))), shape(X3)) -> Crossover -> add(shape(div(add(X8, mul(X0, shape(X7))), mul(shape(X6), shape(X5)))), shape(X3))\n",
      "Retrieved score for add(shape(div(add(X8, mul(X0, shape(X7))), mul(shape(X6), shape(X5)))), shape(X3))\n",
      "add(shape(div(add(X8, mul(X0, shape(X7))), mul(shape(X6), shape(X5)))), shape(X3)) -> Reproduction -> add(shape(div(add(X8, mul(X0, shape(X7))), mul(shape(X6), shape(X5)))), shape(X3))\n",
      "Retrieved score for add(shape(div(add(X8, mul(X0, shape(X7))), mul(shape(X6), shape(X5)))), shape(X3))\n",
      "add(shape(div(add(X8, mul(X0, shape(X7))), mul(shape(X6), shape(X5)))), shape(X3)) -> Reproduction -> add(shape(div(add(X8, mul(X0, shape(X7))), mul(shape(X6), shape(X5)))), shape(X3))\n",
      "Retrieved score for add(shape(div(add(X8, mul(X0, shape(X7))), mul(shape(X6), shape(X5)))), shape(X3))\n",
      "add(shape(div(add(X8, mul(X0, shape(X7))), mul(shape(X6), shape(X5)))), shape(X3)) -> Subtree Mutation -> add(shape(div(add(X8, mul(X0, shape(X7))), mul(add(mul(mul(shape(X6), shape(X1)), shape(X2)), X4), shape(X5)))), shape(X3))\n",
      "add(shape(div(add(X8, mul(X0, shape(X7))), mul(add(mul(mul(shape(X6), shape(X1)), shape(X2)), shape(X4)), shape(X5)))), shape(X3))\n"
     ]
    },
    {
     "name": "stderr",
     "output_type": "stream",
     "text": [
      "/Users/stybl/mamba/envs/shares/lib/python3.11/site-packages/pytorch_lightning/trainer/setup.py:177: GPU available but not used. You can set it by doing `Trainer(accelerator='gpu')`.\n",
      "/Users/stybl/mamba/envs/shares/lib/python3.11/site-packages/pytorch_lightning/trainer/configuration_validator.py:70: You defined a `validation_step` but have no `val_dataloader`. Skipping val loop.\n",
      "/Users/stybl/mamba/envs/shares/lib/python3.11/site-packages/pytorch_lightning/callbacks/model_checkpoint.py:654: Checkpoint directory /Users/stybl/Source/SurvSHAREs/data/checkpoints/survshare_rossi/2025-05-24T21.02.28 exists and is not empty.\n"
     ]
    },
    {
     "data": {
      "application/vnd.jupyter.widget-view+json": {
       "model_id": "6e3acb71ddea4eb5ad6e30983713add0",
       "version_major": 2,
       "version_minor": 0
      },
      "text/plain": [
       "Finding best initial lr:   0%|          | 0/100 [00:00<?, ?it/s]"
      ]
     },
     "metadata": {},
     "output_type": "display_data"
    },
    {
     "name": "stderr",
     "output_type": "stream",
     "text": [
      "LR finder stopped early after 98 steps due to diverging loss.\n",
      "Learning rate set to 0.005754399373371567\n",
      "Restoring states from the checkpoint path at data/lightning_logs/.lr_find_9293f14d-5aa1-4c21-91fd-795adf319ba5.ckpt\n",
      "Restored all states from the checkpoint at data/lightning_logs/.lr_find_9293f14d-5aa1-4c21-91fd-795adf319ba5.ckpt\n",
      "`Trainer.fit` stopped: `max_epochs=100` reached.\n",
      "GPU available: True (mps), used: False\n",
      "TPU available: False, using: 0 TPU cores\n",
      "HPU available: False, using: 0 HPUs\n"
     ]
    },
    {
     "name": "stdout",
     "output_type": "stream",
     "text": [
      "add(shape(div(add(X8, mul(X0, shape(X7))), mul(add(mul(mul(shape(X6), shape(X1)), shape(X2)), shape(X4)), shape(X5)))), shape(X3))\n",
      "add(shape(div(add(X8, mul(X0, shape(X7))), mul(add(mul(mul(shape(X6), shape(X1)), shape(X2)), shape(X4)), shape(X5)))), shape(X3)) | raw_fitness: 5.223952293395996\n",
      "9\n",
      "Min error so far: 5.178367614746094\n",
      "add(shape(div(add(X8, mul(X0, shape(X7))), mul(shape(X6), shape(X5)))), shape(X3)) -> Hoist Mutation -> add(shape(div(add(X8, mul(X0, shape(X7))), mul(shape(X6), shape(X5)))), shape(X3))\n",
      "Retrieved score for add(shape(div(add(X8, mul(X0, shape(X7))), mul(shape(X6), shape(X5)))), shape(X3))\n",
      "Best program: add(shape(div(add(X8, mul(X0, shape(X7))), mul(shape(X6), shape(X5)))), shape(X3))\n",
      "   2    17.80          5.18748       16          5.17837              N/A      6.50s\n",
      "add(shape(div(add(X8, mul(X0, shape(X7))), mul(shape(X6), shape(X5)))), shape(X3)) -> Subtree Mutation -> shape(mul(mul(div(div(add(div(shape(X3), shape(X0)), shape(X1)), shape(X6)), shape(X2)), shape(X4)), shape(X8)))\n",
      "shape(mul(mul(div(div(add(div(shape(X3), shape(X0)), shape(X1)), shape(X6)), shape(X2)), shape(X4)), shape(X8)))\n"
     ]
    },
    {
     "name": "stderr",
     "output_type": "stream",
     "text": [
      "/Users/stybl/mamba/envs/shares/lib/python3.11/site-packages/pytorch_lightning/trainer/setup.py:177: GPU available but not used. You can set it by doing `Trainer(accelerator='gpu')`.\n",
      "/Users/stybl/mamba/envs/shares/lib/python3.11/site-packages/pytorch_lightning/trainer/configuration_validator.py:70: You defined a `validation_step` but have no `val_dataloader`. Skipping val loop.\n",
      "/Users/stybl/mamba/envs/shares/lib/python3.11/site-packages/pytorch_lightning/callbacks/model_checkpoint.py:654: Checkpoint directory /Users/stybl/Source/SurvSHAREs/data/checkpoints/survshare_rossi/2025-05-24T21.02.28 exists and is not empty.\n"
     ]
    },
    {
     "data": {
      "application/vnd.jupyter.widget-view+json": {
       "model_id": "c044d67716a9485791c7fe406e8a1da5",
       "version_major": 2,
       "version_minor": 0
      },
      "text/plain": [
       "Finding best initial lr:   0%|          | 0/100 [00:00<?, ?it/s]"
      ]
     },
     "metadata": {},
     "output_type": "display_data"
    },
    {
     "name": "stderr",
     "output_type": "stream",
     "text": [
      "`Trainer.fit` stopped: `max_steps=100` reached.\n",
      "Learning rate set to 0.3311311214825908\n",
      "Restoring states from the checkpoint path at data/lightning_logs/.lr_find_c323cf7f-2e23-49d4-992c-777556bcb389.ckpt\n",
      "Restored all states from the checkpoint at data/lightning_logs/.lr_find_c323cf7f-2e23-49d4-992c-777556bcb389.ckpt\n",
      "`Trainer.fit` stopped: `max_epochs=100` reached.\n",
      "GPU available: True (mps), used: False\n",
      "TPU available: False, using: 0 TPU cores\n",
      "HPU available: False, using: 0 HPUs\n"
     ]
    },
    {
     "name": "stdout",
     "output_type": "stream",
     "text": [
      "shape(mul(mul(div(div(add(div(shape(X3), shape(X0)), shape(X1)), shape(X6)), shape(X2)), shape(X4)), shape(X8)))\n",
      "shape(mul(mul(div(div(add(div(shape(X3), shape(X0)), shape(X1)), shape(X6)), shape(X2)), shape(X4)), shape(X8))) | raw_fitness: 6.1883320808410645\n",
      "10\n",
      "Min error so far: 5.178367614746094\n",
      "add(shape(div(add(X8, mul(X0, shape(X7))), mul(shape(X6), shape(X5)))), shape(X3)) -> Subtree Mutation -> add(shape(div(add(X8, div(div(add(shape(add(shape(X2), shape(X0))), shape(X1)), shape(X7)), shape(X4))), mul(shape(X6), shape(X5)))), shape(X3))\n",
      "add(shape(div(add(X8, div(div(add(shape(add(shape(X2), shape(X0))), shape(X1)), shape(X7)), shape(X4))), mul(shape(X6), shape(X5)))), shape(X3))\n"
     ]
    },
    {
     "name": "stderr",
     "output_type": "stream",
     "text": [
      "/Users/stybl/mamba/envs/shares/lib/python3.11/site-packages/pytorch_lightning/trainer/setup.py:177: GPU available but not used. You can set it by doing `Trainer(accelerator='gpu')`.\n",
      "/Users/stybl/mamba/envs/shares/lib/python3.11/site-packages/pytorch_lightning/trainer/configuration_validator.py:70: You defined a `validation_step` but have no `val_dataloader`. Skipping val loop.\n",
      "/Users/stybl/mamba/envs/shares/lib/python3.11/site-packages/pytorch_lightning/callbacks/model_checkpoint.py:654: Checkpoint directory /Users/stybl/Source/SurvSHAREs/data/checkpoints/survshare_rossi/2025-05-24T21.02.28 exists and is not empty.\n"
     ]
    },
    {
     "data": {
      "application/vnd.jupyter.widget-view+json": {
       "model_id": "d853c2c535644528b294499d8992b681",
       "version_major": 2,
       "version_minor": 0
      },
      "text/plain": [
       "Finding best initial lr:   0%|          | 0/100 [00:00<?, ?it/s]"
      ]
     },
     "metadata": {},
     "output_type": "display_data"
    },
    {
     "name": "stderr",
     "output_type": "stream",
     "text": [
      "LR finder stopped early after 99 steps due to diverging loss.\n",
      "Learning rate set to 0.6918309709189363\n",
      "Restoring states from the checkpoint path at data/lightning_logs/.lr_find_6e2125ab-39b2-44cf-8b93-6250c7c02b6f.ckpt\n",
      "Restored all states from the checkpoint at data/lightning_logs/.lr_find_6e2125ab-39b2-44cf-8b93-6250c7c02b6f.ckpt\n",
      "`Trainer.fit` stopped: `max_epochs=100` reached.\n",
      "GPU available: True (mps), used: False\n",
      "TPU available: False, using: 0 TPU cores\n",
      "HPU available: False, using: 0 HPUs\n"
     ]
    },
    {
     "name": "stdout",
     "output_type": "stream",
     "text": [
      "add(shape(div(add(X8, div(div(add(shape(add(shape(X2), shape(X0))), shape(X1)), shape(X7)), shape(X4))), mul(shape(X6), shape(X5)))), shape(X3))\n",
      "add(shape(div(add(X8, div(div(add(shape(add(shape(X2), shape(X0))), shape(X1)), shape(X7)), shape(X4))), mul(shape(X6), shape(X5)))), shape(X3)) | raw_fitness: inf\n",
      "11\n",
      "Min error so far: 5.178367614746094\n",
      "add(shape(div(add(X8, mul(X0, shape(X7))), mul(shape(X6), shape(X5)))), shape(X3)) -> Point Mutation -> div(shape(mul(add(X8, mul(X3, shape(X7))), add(shape(X6), shape(X5)))), shape(X0))\n",
      "div(shape(mul(add(X8, mul(X3, shape(X7))), add(shape(X6), shape(X5)))), shape(X0))\n"
     ]
    },
    {
     "name": "stderr",
     "output_type": "stream",
     "text": [
      "/Users/stybl/mamba/envs/shares/lib/python3.11/site-packages/pytorch_lightning/trainer/setup.py:177: GPU available but not used. You can set it by doing `Trainer(accelerator='gpu')`.\n",
      "/Users/stybl/mamba/envs/shares/lib/python3.11/site-packages/pytorch_lightning/trainer/configuration_validator.py:70: You defined a `validation_step` but have no `val_dataloader`. Skipping val loop.\n",
      "/Users/stybl/mamba/envs/shares/lib/python3.11/site-packages/pytorch_lightning/callbacks/model_checkpoint.py:654: Checkpoint directory /Users/stybl/Source/SurvSHAREs/data/checkpoints/survshare_rossi/2025-05-24T21.02.28 exists and is not empty.\n"
     ]
    },
    {
     "data": {
      "application/vnd.jupyter.widget-view+json": {
       "model_id": "fc1e3a4877fc470092c71e59430f6b33",
       "version_major": 2,
       "version_minor": 0
      },
      "text/plain": [
       "Finding best initial lr:   0%|          | 0/100 [00:00<?, ?it/s]"
      ]
     },
     "metadata": {},
     "output_type": "display_data"
    },
    {
     "name": "stderr",
     "output_type": "stream",
     "text": [
      "`Trainer.fit` stopped: `max_steps=100` reached.\n",
      "Learning rate set to 0.012022644346174132\n",
      "Restoring states from the checkpoint path at data/lightning_logs/.lr_find_e35da61c-337b-45f4-b769-24be95df1c82.ckpt\n",
      "Restored all states from the checkpoint at data/lightning_logs/.lr_find_e35da61c-337b-45f4-b769-24be95df1c82.ckpt\n",
      "`Trainer.fit` stopped: `max_epochs=100` reached.\n",
      "GPU available: True (mps), used: False\n",
      "TPU available: False, using: 0 TPU cores\n",
      "HPU available: False, using: 0 HPUs\n"
     ]
    },
    {
     "name": "stdout",
     "output_type": "stream",
     "text": [
      "div(shape(mul(add(X8, mul(X3, shape(X7))), add(shape(X6), shape(X5)))), shape(X0))\n",
      "div(shape(mul(add(X8, mul(X3, shape(X7))), add(shape(X6), shape(X5)))), shape(X0)) | raw_fitness: 5.1770195960998535\n",
      "12\n",
      "Min error so far: 5.1770195960998535\n",
      "add(shape(div(add(X8, mul(X0, shape(X7))), mul(shape(X6), shape(X5)))), shape(X3)) -> Crossover -> add(shape(div(add(X8, mul(X0, shape(X7))), mul(shape(X6), shape(X5)))), shape(X3))\n",
      "Retrieved score for add(shape(div(add(X8, mul(X0, shape(X7))), mul(shape(X6), shape(X5)))), shape(X3))\n",
      "add(shape(div(add(X8, mul(X0, shape(X7))), mul(shape(X6), shape(X5)))), shape(X3)) -> Crossover -> add(shape(div(add(X8, shape(X7)), mul(shape(X6), shape(X5)))), shape(X3))\n",
      "add(shape(div(add(X8, shape(X7)), mul(shape(X6), shape(X5)))), shape(X3))\n"
     ]
    },
    {
     "name": "stderr",
     "output_type": "stream",
     "text": [
      "/Users/stybl/mamba/envs/shares/lib/python3.11/site-packages/pytorch_lightning/trainer/setup.py:177: GPU available but not used. You can set it by doing `Trainer(accelerator='gpu')`.\n",
      "/Users/stybl/mamba/envs/shares/lib/python3.11/site-packages/pytorch_lightning/trainer/configuration_validator.py:70: You defined a `validation_step` but have no `val_dataloader`. Skipping val loop.\n",
      "/Users/stybl/mamba/envs/shares/lib/python3.11/site-packages/pytorch_lightning/callbacks/model_checkpoint.py:654: Checkpoint directory /Users/stybl/Source/SurvSHAREs/data/checkpoints/survshare_rossi/2025-05-24T21.02.28 exists and is not empty.\n"
     ]
    },
    {
     "data": {
      "application/vnd.jupyter.widget-view+json": {
       "model_id": "dffe68b8ebd746c886ab3bc3a1e5353b",
       "version_major": 2,
       "version_minor": 0
      },
      "text/plain": [
       "Finding best initial lr:   0%|          | 0/100 [00:00<?, ?it/s]"
      ]
     },
     "metadata": {},
     "output_type": "display_data"
    },
    {
     "name": "stderr",
     "output_type": "stream",
     "text": [
      "LR finder stopped early after 99 steps due to diverging loss.\n",
      "Learning rate set to 0.036307805477010104\n",
      "Restoring states from the checkpoint path at data/lightning_logs/.lr_find_06970984-3108-46e5-9c8a-69e4f34febd6.ckpt\n",
      "Restored all states from the checkpoint at data/lightning_logs/.lr_find_06970984-3108-46e5-9c8a-69e4f34febd6.ckpt\n",
      "`Trainer.fit` stopped: `max_epochs=100` reached.\n",
      "GPU available: True (mps), used: False\n",
      "TPU available: False, using: 0 TPU cores\n",
      "HPU available: False, using: 0 HPUs\n"
     ]
    },
    {
     "name": "stdout",
     "output_type": "stream",
     "text": [
      "add(shape(div(add(X8, shape(X7)), mul(shape(X6), shape(X5)))), shape(X3))\n",
      "add(shape(div(add(X8, shape(X7)), mul(shape(X6), shape(X5)))), shape(X3)) | raw_fitness: 5.215404033660889\n",
      "13\n",
      "Min error so far: 5.1770195960998535\n",
      "Best program: div(shape(mul(add(X8, mul(X3, shape(X7))), add(shape(X6), shape(X5)))), shape(X0))\n",
      "   3    18.80              inf       16          5.17702              N/A     13.66s\n",
      "div(shape(mul(add(X8, mul(X3, shape(X7))), add(shape(X6), shape(X5)))), shape(X0)) -> Crossover -> shape(X7)\n",
      "shape(X7)\n"
     ]
    },
    {
     "name": "stderr",
     "output_type": "stream",
     "text": [
      "/Users/stybl/mamba/envs/shares/lib/python3.11/site-packages/pytorch_lightning/trainer/setup.py:177: GPU available but not used. You can set it by doing `Trainer(accelerator='gpu')`.\n",
      "/Users/stybl/mamba/envs/shares/lib/python3.11/site-packages/pytorch_lightning/trainer/configuration_validator.py:70: You defined a `validation_step` but have no `val_dataloader`. Skipping val loop.\n",
      "/Users/stybl/mamba/envs/shares/lib/python3.11/site-packages/pytorch_lightning/callbacks/model_checkpoint.py:654: Checkpoint directory /Users/stybl/Source/SurvSHAREs/data/checkpoints/survshare_rossi/2025-05-24T21.02.28 exists and is not empty.\n"
     ]
    },
    {
     "data": {
      "application/vnd.jupyter.widget-view+json": {
       "model_id": "d2ec89238c444666b35755964891dac8",
       "version_major": 2,
       "version_minor": 0
      },
      "text/plain": [
       "Finding best initial lr:   0%|          | 0/100 [00:00<?, ?it/s]"
      ]
     },
     "metadata": {},
     "output_type": "display_data"
    },
    {
     "name": "stderr",
     "output_type": "stream",
     "text": [
      "`Trainer.fit` stopped: `max_steps=100` reached.\n",
      "Learning rate set to 0.47863009232263803\n",
      "Restoring states from the checkpoint path at data/lightning_logs/.lr_find_8c353ccc-4ad8-4340-aba2-aab63f4afa48.ckpt\n",
      "Restored all states from the checkpoint at data/lightning_logs/.lr_find_8c353ccc-4ad8-4340-aba2-aab63f4afa48.ckpt\n",
      "`Trainer.fit` stopped: `max_epochs=100` reached.\n",
      "GPU available: True (mps), used: False\n",
      "TPU available: False, using: 0 TPU cores\n",
      "HPU available: False, using: 0 HPUs\n"
     ]
    },
    {
     "name": "stdout",
     "output_type": "stream",
     "text": [
      "shape(X7)\n",
      "shape(X7) | raw_fitness: 5.34693717956543\n",
      "14\n",
      "Min error so far: 5.1770195960998535\n",
      "div(shape(mul(add(X8, mul(X3, shape(X7))), add(shape(X6), shape(X5)))), shape(X0)) -> Subtree Mutation -> div(shape(mul(add(div(shape(X1), shape(X2)), mul(X3, shape(X7))), add(shape(X6), shape(X5)))), shape(X0))\n",
      "div(shape(mul(add(div(shape(X1), shape(X2)), mul(X3, shape(X7))), add(shape(X6), shape(X5)))), shape(X0))\n"
     ]
    },
    {
     "name": "stderr",
     "output_type": "stream",
     "text": [
      "/Users/stybl/mamba/envs/shares/lib/python3.11/site-packages/pytorch_lightning/trainer/setup.py:177: GPU available but not used. You can set it by doing `Trainer(accelerator='gpu')`.\n",
      "/Users/stybl/mamba/envs/shares/lib/python3.11/site-packages/pytorch_lightning/trainer/configuration_validator.py:70: You defined a `validation_step` but have no `val_dataloader`. Skipping val loop.\n",
      "/Users/stybl/mamba/envs/shares/lib/python3.11/site-packages/pytorch_lightning/callbacks/model_checkpoint.py:654: Checkpoint directory /Users/stybl/Source/SurvSHAREs/data/checkpoints/survshare_rossi/2025-05-24T21.02.28 exists and is not empty.\n"
     ]
    },
    {
     "data": {
      "application/vnd.jupyter.widget-view+json": {
       "model_id": "c27ec7d0055c4ca3958a04dfbc8f706d",
       "version_major": 2,
       "version_minor": 0
      },
      "text/plain": [
       "Finding best initial lr:   0%|          | 0/100 [00:00<?, ?it/s]"
      ]
     },
     "metadata": {},
     "output_type": "display_data"
    },
    {
     "name": "stderr",
     "output_type": "stream",
     "text": [
      "`Trainer.fit` stopped: `max_steps=100` reached.\n",
      "Learning rate set to 7.585775750291837e-08\n",
      "Restoring states from the checkpoint path at data/lightning_logs/.lr_find_42606eca-9452-4fd3-a931-c90c63d97b84.ckpt\n",
      "Restored all states from the checkpoint at data/lightning_logs/.lr_find_42606eca-9452-4fd3-a931-c90c63d97b84.ckpt\n",
      "`Trainer.fit` stopped: `max_epochs=100` reached.\n",
      "GPU available: True (mps), used: False\n",
      "TPU available: False, using: 0 TPU cores\n",
      "HPU available: False, using: 0 HPUs\n"
     ]
    },
    {
     "name": "stdout",
     "output_type": "stream",
     "text": [
      "div(shape(mul(add(div(shape(X1), shape(X2)), mul(X3, shape(X7))), add(shape(X6), shape(X5)))), shape(X0))\n",
      "div(shape(mul(add(div(shape(X1), shape(X2)), mul(X3, shape(X7))), add(shape(X6), shape(X5)))), shape(X0)) | raw_fitness: 13.693413734436035\n",
      "15\n",
      "Min error so far: 5.1770195960998535\n",
      "div(shape(mul(add(X8, mul(X3, shape(X7))), add(shape(X6), shape(X5)))), shape(X0)) -> Crossover -> div(shape(X7), shape(X0))\n",
      "div(shape(X7), shape(X0))\n"
     ]
    },
    {
     "name": "stderr",
     "output_type": "stream",
     "text": [
      "/Users/stybl/mamba/envs/shares/lib/python3.11/site-packages/pytorch_lightning/trainer/setup.py:177: GPU available but not used. You can set it by doing `Trainer(accelerator='gpu')`.\n",
      "/Users/stybl/mamba/envs/shares/lib/python3.11/site-packages/pytorch_lightning/trainer/configuration_validator.py:70: You defined a `validation_step` but have no `val_dataloader`. Skipping val loop.\n",
      "/Users/stybl/mamba/envs/shares/lib/python3.11/site-packages/pytorch_lightning/callbacks/model_checkpoint.py:654: Checkpoint directory /Users/stybl/Source/SurvSHAREs/data/checkpoints/survshare_rossi/2025-05-24T21.02.28 exists and is not empty.\n"
     ]
    },
    {
     "data": {
      "application/vnd.jupyter.widget-view+json": {
       "model_id": "495b611188b541a8b353708f8e91cf03",
       "version_major": 2,
       "version_minor": 0
      },
      "text/plain": [
       "Finding best initial lr:   0%|          | 0/100 [00:00<?, ?it/s]"
      ]
     },
     "metadata": {},
     "output_type": "display_data"
    },
    {
     "name": "stderr",
     "output_type": "stream",
     "text": [
      "`Trainer.fit` stopped: `max_steps=100` reached.\n",
      "Learning rate set to 0.13182567385564073\n",
      "Restoring states from the checkpoint path at data/lightning_logs/.lr_find_804c8a31-21d4-460e-95ad-78a635ebd869.ckpt\n",
      "Restored all states from the checkpoint at data/lightning_logs/.lr_find_804c8a31-21d4-460e-95ad-78a635ebd869.ckpt\n",
      "`Trainer.fit` stopped: `max_epochs=100` reached.\n",
      "GPU available: True (mps), used: False\n",
      "TPU available: False, using: 0 TPU cores\n",
      "HPU available: False, using: 0 HPUs\n"
     ]
    },
    {
     "name": "stdout",
     "output_type": "stream",
     "text": [
      "div(shape(X7), shape(X0))\n",
      "div(shape(X7), shape(X0)) | raw_fitness: 5.31730318069458\n",
      "16\n",
      "Min error so far: 5.1770195960998535\n",
      "div(shape(mul(add(X8, mul(X3, shape(X7))), add(shape(X6), shape(X5)))), shape(X0)) -> Point Mutation -> div(shape(mul(add(X8, mul(X2, shape(X7))), add(shape(X6), shape(X5)))), shape(X0))\n",
      "div(shape(mul(add(X8, mul(X2, shape(X7))), add(shape(X6), shape(X5)))), shape(X0))\n"
     ]
    },
    {
     "name": "stderr",
     "output_type": "stream",
     "text": [
      "/Users/stybl/mamba/envs/shares/lib/python3.11/site-packages/pytorch_lightning/trainer/setup.py:177: GPU available but not used. You can set it by doing `Trainer(accelerator='gpu')`.\n",
      "/Users/stybl/mamba/envs/shares/lib/python3.11/site-packages/pytorch_lightning/trainer/configuration_validator.py:70: You defined a `validation_step` but have no `val_dataloader`. Skipping val loop.\n",
      "/Users/stybl/mamba/envs/shares/lib/python3.11/site-packages/pytorch_lightning/callbacks/model_checkpoint.py:654: Checkpoint directory /Users/stybl/Source/SurvSHAREs/data/checkpoints/survshare_rossi/2025-05-24T21.02.28 exists and is not empty.\n"
     ]
    },
    {
     "data": {
      "application/vnd.jupyter.widget-view+json": {
       "model_id": "b50f8db299354b1aae89718e60cfeabb",
       "version_major": 2,
       "version_minor": 0
      },
      "text/plain": [
       "Finding best initial lr:   0%|          | 0/100 [00:00<?, ?it/s]"
      ]
     },
     "metadata": {},
     "output_type": "display_data"
    },
    {
     "name": "stderr",
     "output_type": "stream",
     "text": [
      "`Trainer.fit` stopped: `max_steps=100` reached.\n",
      "Learning rate set to 0.012022644346174132\n",
      "Restoring states from the checkpoint path at data/lightning_logs/.lr_find_6a53b82f-6948-4758-b46d-8abaea81145b.ckpt\n",
      "Restored all states from the checkpoint at data/lightning_logs/.lr_find_6a53b82f-6948-4758-b46d-8abaea81145b.ckpt\n",
      "`Trainer.fit` stopped: `max_epochs=100` reached.\n"
     ]
    },
    {
     "name": "stdout",
     "output_type": "stream",
     "text": [
      "div(shape(mul(add(X8, mul(X2, shape(X7))), add(shape(X6), shape(X5)))), shape(X0))\n",
      "div(shape(mul(add(X8, mul(X2, shape(X7))), add(shape(X6), shape(X5)))), shape(X0)) | raw_fitness: 5.1697492599487305\n",
      "17\n",
      "Min error so far: 5.1697492599487305\n",
      "div(shape(mul(add(X8, mul(X3, shape(X7))), add(shape(X6), shape(X5)))), shape(X0)) -> Reproduction -> div(shape(mul(add(X8, mul(X3, shape(X7))), add(shape(X6), shape(X5)))), shape(X0))\n",
      "Retrieved score for div(shape(mul(add(X8, mul(X3, shape(X7))), add(shape(X6), shape(X5)))), shape(X0))\n",
      "Best program: div(shape(mul(add(X8, mul(X2, shape(X7))), add(shape(X6), shape(X5)))), shape(X0))\n",
      "   4    11.80          6.94089       16          5.16975              N/A      0.00s\n"
     ]
    },
    {
     "data": {
      "text/html": [
       "<style>#sk-container-id-4 {\n",
       "  /* Definition of color scheme common for light and dark mode */\n",
       "  --sklearn-color-text: #000;\n",
       "  --sklearn-color-text-muted: #666;\n",
       "  --sklearn-color-line: gray;\n",
       "  /* Definition of color scheme for unfitted estimators */\n",
       "  --sklearn-color-unfitted-level-0: #fff5e6;\n",
       "  --sklearn-color-unfitted-level-1: #f6e4d2;\n",
       "  --sklearn-color-unfitted-level-2: #ffe0b3;\n",
       "  --sklearn-color-unfitted-level-3: chocolate;\n",
       "  /* Definition of color scheme for fitted estimators */\n",
       "  --sklearn-color-fitted-level-0: #f0f8ff;\n",
       "  --sklearn-color-fitted-level-1: #d4ebff;\n",
       "  --sklearn-color-fitted-level-2: #b3dbfd;\n",
       "  --sklearn-color-fitted-level-3: cornflowerblue;\n",
       "\n",
       "  /* Specific color for light theme */\n",
       "  --sklearn-color-text-on-default-background: var(--sg-text-color, var(--theme-code-foreground, var(--jp-content-font-color1, black)));\n",
       "  --sklearn-color-background: var(--sg-background-color, var(--theme-background, var(--jp-layout-color0, white)));\n",
       "  --sklearn-color-border-box: var(--sg-text-color, var(--theme-code-foreground, var(--jp-content-font-color1, black)));\n",
       "  --sklearn-color-icon: #696969;\n",
       "\n",
       "  @media (prefers-color-scheme: dark) {\n",
       "    /* Redefinition of color scheme for dark theme */\n",
       "    --sklearn-color-text-on-default-background: var(--sg-text-color, var(--theme-code-foreground, var(--jp-content-font-color1, white)));\n",
       "    --sklearn-color-background: var(--sg-background-color, var(--theme-background, var(--jp-layout-color0, #111)));\n",
       "    --sklearn-color-border-box: var(--sg-text-color, var(--theme-code-foreground, var(--jp-content-font-color1, white)));\n",
       "    --sklearn-color-icon: #878787;\n",
       "  }\n",
       "}\n",
       "\n",
       "#sk-container-id-4 {\n",
       "  color: var(--sklearn-color-text);\n",
       "}\n",
       "\n",
       "#sk-container-id-4 pre {\n",
       "  padding: 0;\n",
       "}\n",
       "\n",
       "#sk-container-id-4 input.sk-hidden--visually {\n",
       "  border: 0;\n",
       "  clip: rect(1px 1px 1px 1px);\n",
       "  clip: rect(1px, 1px, 1px, 1px);\n",
       "  height: 1px;\n",
       "  margin: -1px;\n",
       "  overflow: hidden;\n",
       "  padding: 0;\n",
       "  position: absolute;\n",
       "  width: 1px;\n",
       "}\n",
       "\n",
       "#sk-container-id-4 div.sk-dashed-wrapped {\n",
       "  border: 1px dashed var(--sklearn-color-line);\n",
       "  margin: 0 0.4em 0.5em 0.4em;\n",
       "  box-sizing: border-box;\n",
       "  padding-bottom: 0.4em;\n",
       "  background-color: var(--sklearn-color-background);\n",
       "}\n",
       "\n",
       "#sk-container-id-4 div.sk-container {\n",
       "  /* jupyter's `normalize.less` sets `[hidden] { display: none; }`\n",
       "     but bootstrap.min.css set `[hidden] { display: none !important; }`\n",
       "     so we also need the `!important` here to be able to override the\n",
       "     default hidden behavior on the sphinx rendered scikit-learn.org.\n",
       "     See: https://github.com/scikit-learn/scikit-learn/issues/21755 */\n",
       "  display: inline-block !important;\n",
       "  position: relative;\n",
       "}\n",
       "\n",
       "#sk-container-id-4 div.sk-text-repr-fallback {\n",
       "  display: none;\n",
       "}\n",
       "\n",
       "div.sk-parallel-item,\n",
       "div.sk-serial,\n",
       "div.sk-item {\n",
       "  /* draw centered vertical line to link estimators */\n",
       "  background-image: linear-gradient(var(--sklearn-color-text-on-default-background), var(--sklearn-color-text-on-default-background));\n",
       "  background-size: 2px 100%;\n",
       "  background-repeat: no-repeat;\n",
       "  background-position: center center;\n",
       "}\n",
       "\n",
       "/* Parallel-specific style estimator block */\n",
       "\n",
       "#sk-container-id-4 div.sk-parallel-item::after {\n",
       "  content: \"\";\n",
       "  width: 100%;\n",
       "  border-bottom: 2px solid var(--sklearn-color-text-on-default-background);\n",
       "  flex-grow: 1;\n",
       "}\n",
       "\n",
       "#sk-container-id-4 div.sk-parallel {\n",
       "  display: flex;\n",
       "  align-items: stretch;\n",
       "  justify-content: center;\n",
       "  background-color: var(--sklearn-color-background);\n",
       "  position: relative;\n",
       "}\n",
       "\n",
       "#sk-container-id-4 div.sk-parallel-item {\n",
       "  display: flex;\n",
       "  flex-direction: column;\n",
       "}\n",
       "\n",
       "#sk-container-id-4 div.sk-parallel-item:first-child::after {\n",
       "  align-self: flex-end;\n",
       "  width: 50%;\n",
       "}\n",
       "\n",
       "#sk-container-id-4 div.sk-parallel-item:last-child::after {\n",
       "  align-self: flex-start;\n",
       "  width: 50%;\n",
       "}\n",
       "\n",
       "#sk-container-id-4 div.sk-parallel-item:only-child::after {\n",
       "  width: 0;\n",
       "}\n",
       "\n",
       "/* Serial-specific style estimator block */\n",
       "\n",
       "#sk-container-id-4 div.sk-serial {\n",
       "  display: flex;\n",
       "  flex-direction: column;\n",
       "  align-items: center;\n",
       "  background-color: var(--sklearn-color-background);\n",
       "  padding-right: 1em;\n",
       "  padding-left: 1em;\n",
       "}\n",
       "\n",
       "\n",
       "/* Toggleable style: style used for estimator/Pipeline/ColumnTransformer box that is\n",
       "clickable and can be expanded/collapsed.\n",
       "- Pipeline and ColumnTransformer use this feature and define the default style\n",
       "- Estimators will overwrite some part of the style using the `sk-estimator` class\n",
       "*/\n",
       "\n",
       "/* Pipeline and ColumnTransformer style (default) */\n",
       "\n",
       "#sk-container-id-4 div.sk-toggleable {\n",
       "  /* Default theme specific background. It is overwritten whether we have a\n",
       "  specific estimator or a Pipeline/ColumnTransformer */\n",
       "  background-color: var(--sklearn-color-background);\n",
       "}\n",
       "\n",
       "/* Toggleable label */\n",
       "#sk-container-id-4 label.sk-toggleable__label {\n",
       "  cursor: pointer;\n",
       "  display: flex;\n",
       "  width: 100%;\n",
       "  margin-bottom: 0;\n",
       "  padding: 0.5em;\n",
       "  box-sizing: border-box;\n",
       "  text-align: center;\n",
       "  align-items: start;\n",
       "  justify-content: space-between;\n",
       "  gap: 0.5em;\n",
       "}\n",
       "\n",
       "#sk-container-id-4 label.sk-toggleable__label .caption {\n",
       "  font-size: 0.6rem;\n",
       "  font-weight: lighter;\n",
       "  color: var(--sklearn-color-text-muted);\n",
       "}\n",
       "\n",
       "#sk-container-id-4 label.sk-toggleable__label-arrow:before {\n",
       "  /* Arrow on the left of the label */\n",
       "  content: \"▸\";\n",
       "  float: left;\n",
       "  margin-right: 0.25em;\n",
       "  color: var(--sklearn-color-icon);\n",
       "}\n",
       "\n",
       "#sk-container-id-4 label.sk-toggleable__label-arrow:hover:before {\n",
       "  color: var(--sklearn-color-text);\n",
       "}\n",
       "\n",
       "/* Toggleable content - dropdown */\n",
       "\n",
       "#sk-container-id-4 div.sk-toggleable__content {\n",
       "  max-height: 0;\n",
       "  max-width: 0;\n",
       "  overflow: hidden;\n",
       "  text-align: left;\n",
       "  /* unfitted */\n",
       "  background-color: var(--sklearn-color-unfitted-level-0);\n",
       "}\n",
       "\n",
       "#sk-container-id-4 div.sk-toggleable__content.fitted {\n",
       "  /* fitted */\n",
       "  background-color: var(--sklearn-color-fitted-level-0);\n",
       "}\n",
       "\n",
       "#sk-container-id-4 div.sk-toggleable__content pre {\n",
       "  margin: 0.2em;\n",
       "  border-radius: 0.25em;\n",
       "  color: var(--sklearn-color-text);\n",
       "  /* unfitted */\n",
       "  background-color: var(--sklearn-color-unfitted-level-0);\n",
       "}\n",
       "\n",
       "#sk-container-id-4 div.sk-toggleable__content.fitted pre {\n",
       "  /* unfitted */\n",
       "  background-color: var(--sklearn-color-fitted-level-0);\n",
       "}\n",
       "\n",
       "#sk-container-id-4 input.sk-toggleable__control:checked~div.sk-toggleable__content {\n",
       "  /* Expand drop-down */\n",
       "  max-height: 200px;\n",
       "  max-width: 100%;\n",
       "  overflow: auto;\n",
       "}\n",
       "\n",
       "#sk-container-id-4 input.sk-toggleable__control:checked~label.sk-toggleable__label-arrow:before {\n",
       "  content: \"▾\";\n",
       "}\n",
       "\n",
       "/* Pipeline/ColumnTransformer-specific style */\n",
       "\n",
       "#sk-container-id-4 div.sk-label input.sk-toggleable__control:checked~label.sk-toggleable__label {\n",
       "  color: var(--sklearn-color-text);\n",
       "  background-color: var(--sklearn-color-unfitted-level-2);\n",
       "}\n",
       "\n",
       "#sk-container-id-4 div.sk-label.fitted input.sk-toggleable__control:checked~label.sk-toggleable__label {\n",
       "  background-color: var(--sklearn-color-fitted-level-2);\n",
       "}\n",
       "\n",
       "/* Estimator-specific style */\n",
       "\n",
       "/* Colorize estimator box */\n",
       "#sk-container-id-4 div.sk-estimator input.sk-toggleable__control:checked~label.sk-toggleable__label {\n",
       "  /* unfitted */\n",
       "  background-color: var(--sklearn-color-unfitted-level-2);\n",
       "}\n",
       "\n",
       "#sk-container-id-4 div.sk-estimator.fitted input.sk-toggleable__control:checked~label.sk-toggleable__label {\n",
       "  /* fitted */\n",
       "  background-color: var(--sklearn-color-fitted-level-2);\n",
       "}\n",
       "\n",
       "#sk-container-id-4 div.sk-label label.sk-toggleable__label,\n",
       "#sk-container-id-4 div.sk-label label {\n",
       "  /* The background is the default theme color */\n",
       "  color: var(--sklearn-color-text-on-default-background);\n",
       "}\n",
       "\n",
       "/* On hover, darken the color of the background */\n",
       "#sk-container-id-4 div.sk-label:hover label.sk-toggleable__label {\n",
       "  color: var(--sklearn-color-text);\n",
       "  background-color: var(--sklearn-color-unfitted-level-2);\n",
       "}\n",
       "\n",
       "/* Label box, darken color on hover, fitted */\n",
       "#sk-container-id-4 div.sk-label.fitted:hover label.sk-toggleable__label.fitted {\n",
       "  color: var(--sklearn-color-text);\n",
       "  background-color: var(--sklearn-color-fitted-level-2);\n",
       "}\n",
       "\n",
       "/* Estimator label */\n",
       "\n",
       "#sk-container-id-4 div.sk-label label {\n",
       "  font-family: monospace;\n",
       "  font-weight: bold;\n",
       "  display: inline-block;\n",
       "  line-height: 1.2em;\n",
       "}\n",
       "\n",
       "#sk-container-id-4 div.sk-label-container {\n",
       "  text-align: center;\n",
       "}\n",
       "\n",
       "/* Estimator-specific */\n",
       "#sk-container-id-4 div.sk-estimator {\n",
       "  font-family: monospace;\n",
       "  border: 1px dotted var(--sklearn-color-border-box);\n",
       "  border-radius: 0.25em;\n",
       "  box-sizing: border-box;\n",
       "  margin-bottom: 0.5em;\n",
       "  /* unfitted */\n",
       "  background-color: var(--sklearn-color-unfitted-level-0);\n",
       "}\n",
       "\n",
       "#sk-container-id-4 div.sk-estimator.fitted {\n",
       "  /* fitted */\n",
       "  background-color: var(--sklearn-color-fitted-level-0);\n",
       "}\n",
       "\n",
       "/* on hover */\n",
       "#sk-container-id-4 div.sk-estimator:hover {\n",
       "  /* unfitted */\n",
       "  background-color: var(--sklearn-color-unfitted-level-2);\n",
       "}\n",
       "\n",
       "#sk-container-id-4 div.sk-estimator.fitted:hover {\n",
       "  /* fitted */\n",
       "  background-color: var(--sklearn-color-fitted-level-2);\n",
       "}\n",
       "\n",
       "/* Specification for estimator info (e.g. \"i\" and \"?\") */\n",
       "\n",
       "/* Common style for \"i\" and \"?\" */\n",
       "\n",
       ".sk-estimator-doc-link,\n",
       "a:link.sk-estimator-doc-link,\n",
       "a:visited.sk-estimator-doc-link {\n",
       "  float: right;\n",
       "  font-size: smaller;\n",
       "  line-height: 1em;\n",
       "  font-family: monospace;\n",
       "  background-color: var(--sklearn-color-background);\n",
       "  border-radius: 1em;\n",
       "  height: 1em;\n",
       "  width: 1em;\n",
       "  text-decoration: none !important;\n",
       "  margin-left: 0.5em;\n",
       "  text-align: center;\n",
       "  /* unfitted */\n",
       "  border: var(--sklearn-color-unfitted-level-1) 1pt solid;\n",
       "  color: var(--sklearn-color-unfitted-level-1);\n",
       "}\n",
       "\n",
       ".sk-estimator-doc-link.fitted,\n",
       "a:link.sk-estimator-doc-link.fitted,\n",
       "a:visited.sk-estimator-doc-link.fitted {\n",
       "  /* fitted */\n",
       "  border: var(--sklearn-color-fitted-level-1) 1pt solid;\n",
       "  color: var(--sklearn-color-fitted-level-1);\n",
       "}\n",
       "\n",
       "/* On hover */\n",
       "div.sk-estimator:hover .sk-estimator-doc-link:hover,\n",
       ".sk-estimator-doc-link:hover,\n",
       "div.sk-label-container:hover .sk-estimator-doc-link:hover,\n",
       ".sk-estimator-doc-link:hover {\n",
       "  /* unfitted */\n",
       "  background-color: var(--sklearn-color-unfitted-level-3);\n",
       "  color: var(--sklearn-color-background);\n",
       "  text-decoration: none;\n",
       "}\n",
       "\n",
       "div.sk-estimator.fitted:hover .sk-estimator-doc-link.fitted:hover,\n",
       ".sk-estimator-doc-link.fitted:hover,\n",
       "div.sk-label-container:hover .sk-estimator-doc-link.fitted:hover,\n",
       ".sk-estimator-doc-link.fitted:hover {\n",
       "  /* fitted */\n",
       "  background-color: var(--sklearn-color-fitted-level-3);\n",
       "  color: var(--sklearn-color-background);\n",
       "  text-decoration: none;\n",
       "}\n",
       "\n",
       "/* Span, style for the box shown on hovering the info icon */\n",
       ".sk-estimator-doc-link span {\n",
       "  display: none;\n",
       "  z-index: 9999;\n",
       "  position: relative;\n",
       "  font-weight: normal;\n",
       "  right: .2ex;\n",
       "  padding: .5ex;\n",
       "  margin: .5ex;\n",
       "  width: min-content;\n",
       "  min-width: 20ex;\n",
       "  max-width: 50ex;\n",
       "  color: var(--sklearn-color-text);\n",
       "  box-shadow: 2pt 2pt 4pt #999;\n",
       "  /* unfitted */\n",
       "  background: var(--sklearn-color-unfitted-level-0);\n",
       "  border: .5pt solid var(--sklearn-color-unfitted-level-3);\n",
       "}\n",
       "\n",
       ".sk-estimator-doc-link.fitted span {\n",
       "  /* fitted */\n",
       "  background: var(--sklearn-color-fitted-level-0);\n",
       "  border: var(--sklearn-color-fitted-level-3);\n",
       "}\n",
       "\n",
       ".sk-estimator-doc-link:hover span {\n",
       "  display: block;\n",
       "}\n",
       "\n",
       "/* \"?\"-specific style due to the `<a>` HTML tag */\n",
       "\n",
       "#sk-container-id-4 a.estimator_doc_link {\n",
       "  float: right;\n",
       "  font-size: 1rem;\n",
       "  line-height: 1em;\n",
       "  font-family: monospace;\n",
       "  background-color: var(--sklearn-color-background);\n",
       "  border-radius: 1rem;\n",
       "  height: 1rem;\n",
       "  width: 1rem;\n",
       "  text-decoration: none;\n",
       "  /* unfitted */\n",
       "  color: var(--sklearn-color-unfitted-level-1);\n",
       "  border: var(--sklearn-color-unfitted-level-1) 1pt solid;\n",
       "}\n",
       "\n",
       "#sk-container-id-4 a.estimator_doc_link.fitted {\n",
       "  /* fitted */\n",
       "  border: var(--sklearn-color-fitted-level-1) 1pt solid;\n",
       "  color: var(--sklearn-color-fitted-level-1);\n",
       "}\n",
       "\n",
       "/* On hover */\n",
       "#sk-container-id-4 a.estimator_doc_link:hover {\n",
       "  /* unfitted */\n",
       "  background-color: var(--sklearn-color-unfitted-level-3);\n",
       "  color: var(--sklearn-color-background);\n",
       "  text-decoration: none;\n",
       "}\n",
       "\n",
       "#sk-container-id-4 a.estimator_doc_link.fitted:hover {\n",
       "  /* fitted */\n",
       "  background-color: var(--sklearn-color-fitted-level-3);\n",
       "}\n",
       "</style><div id=\"sk-container-id-4\" class=\"sk-top-container\"><div class=\"sk-text-repr-fallback\"><pre>div(shape(mul(add(X8, mul(X2, shape(X7))), add(shape(X6), shape(X5)))), shape(X0))</pre><b>In a Jupyter environment, please rerun this cell to show the HTML representation or trust the notebook. <br />On GitHub, the HTML representation is unable to render, please try loading this page with nbviewer.org.</b></div><div class=\"sk-container\" hidden><div class=\"sk-item\"><div class=\"sk-estimator fitted sk-toggleable\"><input class=\"sk-toggleable__control sk-hidden--visually\" id=\"sk-estimator-id-4\" type=\"checkbox\" checked><label for=\"sk-estimator-id-4\" class=\"sk-toggleable__label fitted sk-toggleable__label-arrow\"><div><div>SymbolicRegressor</div></div><div><span class=\"sk-estimator-doc-link fitted\">i<span>Fitted</span></span></div></label><div class=\"sk-toggleable__content fitted\"><pre>div(shape(mul(add(X8, mul(X2, shape(X7))), add(shape(X6), shape(X5)))), shape(X0))</pre></div> </div></div></div></div>"
      ],
      "text/plain": [
       "SymbolicRegressor(categorical_variables={4: [0.0, 1.0], 5: [0.0, 1.0],\n",
       "                                         6: [0.0, 1.0], 7: [0.0, 1.0]},\n",
       "                  const_range=None, function_set=('add', 'mul', 'div', 'shape'),\n",
       "                  generations=5,\n",
       "                  metric=<gplearn.gplearn.fitness._Fitness object at 0x164efea50>,\n",
       "                  optim_dict={'alg': 'adam', 'batch_size': 1000,\n",
       "                              'checkpoint_folder': PosixPath('data/checkpoints/survshare_rossi'),\n",
       "                              'constructor_dict'...\n",
       "                              'loss_fn': approximateNpllLoss(), 'lr': 0.01,\n",
       "                              'max_n_epochs': 100, 'num_workers_dataloader': 0,\n",
       "                              'seed': 42,\n",
       "                              'shape_class': <class 'gplearn.gplearn.model.ShapeNN'>,\n",
       "                              'task': 'survival', 'tol': 0.001},\n",
       "                  p_crossover=0.4, p_hoist_mutation=0.05, p_point_mutation=0.2,\n",
       "                  p_point_replace=0.2, p_subtree_mutation=0.2,\n",
       "                  parsimony_coefficient=0.0, population_size=5, random_state=42,\n",
       "                  tournament_size=10, verbose=True)"
      ]
     },
     "execution_count": 26,
     "metadata": {},
     "output_type": "execute_result"
    }
   ],
   "source": [
    "from gplearn.gplearn.model import ShapeNN\n",
    "from gplearn.gplearn.genetic import SymbolicRegressor\n",
    "from survshares.loss import approximateNpllLoss, npllLoss\n",
    "\n",
    "def init_share_regressor(metric, device, checkpoint_dir, categorical_variables={}):\n",
    "    gp_config = {\n",
    "        \"population_size\": 5,\n",
    "        \"generations\": 5,\n",
    "        \"tournament_size\": 10,\n",
    "        \"function_set\": (\"add\", \"mul\", \"div\", \"shape\"),\n",
    "        \"verbose\": True,\n",
    "        \"random_state\": 42,\n",
    "        \"const_range\": None,\n",
    "        \"n_jobs\": 1,\n",
    "        \"p_crossover\": 0.4,\n",
    "        \"p_subtree_mutation\": 0.2,\n",
    "        \"p_point_mutation\": 0.2,\n",
    "        \"p_hoist_mutation\": 0.05,\n",
    "        \"p_point_replace\": 0.2,\n",
    "        \"parsimony_coefficient\": 0.0,\n",
    "        \"metric\": metric,\n",
    "        \"parsimony_coefficient\": 0.0,\n",
    "        \"optim_dict\": {\n",
    "            \"alg\": \"adam\",\n",
    "            \"lr\": 1e-2,  # tuned automatically\n",
    "            \"max_n_epochs\": 100,\n",
    "            \"tol\": 1e-3,\n",
    "            \"task\": \"survival\",\n",
    "            \"device\": device,\n",
    "            \"batch_size\": 1000,\n",
    "            \"shape_class\": ShapeNN,\n",
    "            \"constructor_dict\": {\n",
    "                \"n_hidden_layers\": 5,\n",
    "                \"width\": 10,\n",
    "                \"activation_name\": \"ELU\",\n",
    "            },\n",
    "            \"num_workers_dataloader\": 0,\n",
    "            \"seed\": 42,\n",
    "            \"checkpoint_folder\": checkpoint_dir,\n",
    "            \"keep_models\": True,\n",
    "            \"loss_fn\": approximateNpllLoss()\n",
    "        },\n",
    "    }\n",
    "\n",
    "    return SymbolicRegressor(**gp_config, categorical_variables=categorical_variables)\n",
    "\n",
    "\n",
    "model = init_share_regressor(\n",
    "    metric = fitness_npll_shrink, \n",
    "    device = \"cpu\",\n",
    "    checkpoint_dir = Path(\"data/checkpoints/survshare_rossi\"),\n",
    "    categorical_variables = dataset.categorical_values\n",
    ")\n",
    "\n",
    "model.fit(torch.Tensor(X), torch.Tensor(T), torch.Tensor(E))"
   ]
  },
  {
   "cell_type": "code",
   "execution_count": 31,
   "id": "c7c49fd1",
   "metadata": {},
   "outputs": [
    {
     "data": {
      "image/png": "[encoded data removed]",
      "text/plain": [
       "<Figure size 1500x500 with 2 Axes>"
      ]
     },
     "metadata": {},
     "output_type": "display_data"
    },
    {
     "data": {
      "image/png": "[encoded data removed]",
      "text/plain": [
       "<Figure size 1500x500 with 3 Axes>"
      ]
     },
     "metadata": {},
     "output_type": "display_data"
    }
   ],
   "source": [
    "model._program.plot_shape_functions(\n",
    "    dataset.numerical_ranges,\n",
    "    dataset.categorical_values\n",
    ")\n"
   ]
  },
  {
   "cell_type": "code",
   "execution_count": 11,
   "id": "1d52c0fa",
   "metadata": {},
   "outputs": [],
   "source": [
    "from sklearn.base import BaseEstimator, RegressorMixin\n",
    "from pycox.models.cox import _CoxPHBase\n",
    "import torchtuples as tt\n",
    "\n",
    "\n",
    "class SymRegPH(BaseEstimator, RegressorMixin, _CoxPHBase):\n",
    "    \"\"\"\n",
    "    Wrapper for gplearn's SymbolicRegressor to use with pycox supporting functions\n",
    "    \"\"\"\n",
    "\n",
    "    def __init__(self, model):\n",
    "        self.model = model\n",
    "\n",
    "    def fit(self, X, y, sample_weight, *args, **kwargs):\n",
    "        self.model.fit(X, y, sample_weight=sample_weight)\n",
    "        return self\n",
    "\n",
    "    def predict(self, X, *args, **kwargs):\n",
    "        if isinstance(X, tt.TupleTree):\n",
    "            X = X[0]\n",
    "        return self.model.predict(X)\n",
    "\n",
    "    def silent(self):\n",
    "        return self.model.set_params(verbose=False)\n",
    "\n",
    "model_wrapped = SymRegPH(model)\n"
   ]
  },
  {
   "cell_type": "code",
   "execution_count": 12,
   "id": "0c233c2c",
   "metadata": {},
   "outputs": [
    {
     "name": "stderr",
     "output_type": "stream",
     "text": [
      "Using default `ModelCheckpoint`. Consider installing `litmodels` package to enable `LitModelCheckpoint` for automatic upload to the Lightning model registry.\n",
      "GPU available: False, used: False\n",
      "TPU available: False, using: 0 TPU cores\n",
      "HPU available: False, using: 0 HPUs\n"
     ]
    },
    {
     "data": {
      "application/vnd.jupyter.widget-view+json": {
       "model_id": "85d3b50f46724455a00ea0c607315a66",
       "version_major": 2,
       "version_minor": 0
      },
      "text/plain": [
       "Predicting: |          | 0/? [00:00<?, ?it/s]"
      ]
     },
     "metadata": {},
     "output_type": "display_data"
    },
    {
     "name": "stderr",
     "output_type": "stream",
     "text": [
      "Using default `ModelCheckpoint`. Consider installing `litmodels` package to enable `LitModelCheckpoint` for automatic upload to the Lightning model registry.\n",
      "GPU available: False, used: False\n",
      "TPU available: False, using: 0 TPU cores\n",
      "HPU available: False, using: 0 HPUs\n"
     ]
    },
    {
     "data": {
      "application/vnd.jupyter.widget-view+json": {
       "model_id": "e4600c4f08864fd9a512f891b6a12fa6",
       "version_major": 2,
       "version_minor": 0
      },
      "text/plain": [
       "Predicting: |          | 0/? [00:00<?, ?it/s]"
      ]
     },
     "metadata": {},
     "output_type": "display_data"
    },
    {
     "name": "stderr",
     "output_type": "stream",
     "text": [
      "Using default `ModelCheckpoint`. Consider installing `litmodels` package to enable `LitModelCheckpoint` for automatic upload to the Lightning model registry.\n",
      "GPU available: False, used: False\n",
      "TPU available: False, using: 0 TPU cores\n",
      "HPU available: False, using: 0 HPUs\n"
     ]
    },
    {
     "data": {
      "application/vnd.jupyter.widget-view+json": {
       "model_id": "708d65163b7e4117ac420845c174e3fe",
       "version_major": 2,
       "version_minor": 0
      },
      "text/plain": [
       "Predicting: |          | 0/? [00:00<?, ?it/s]"
      ]
     },
     "metadata": {},
     "output_type": "display_data"
    },
    {
     "name": "stdout",
     "output_type": "stream",
     "text": [
      "C-index: 0.3591015818535619\n",
      "pycox PLL: 6.772125244140625\n",
      "torchsurv NPLL: 7.3882880210876465\n",
      "IBS: 0.16699629798911025\n"
     ]
    },
    {
     "name": "stderr",
     "output_type": "stream",
     "text": [
      "Using default `ModelCheckpoint`. Consider installing `litmodels` package to enable `LitModelCheckpoint` for automatic upload to the Lightning model registry.\n",
      "GPU available: False, used: False\n",
      "TPU available: False, using: 0 TPU cores\n",
      "HPU available: False, using: 0 HPUs\n"
     ]
    },
    {
     "data": {
      "application/vnd.jupyter.widget-view+json": {
       "model_id": "60818ec1db4b4306984d8f03bd81864c",
       "version_major": 2,
       "version_minor": 0
      },
      "text/plain": [
       "Predicting: |          | 0/? [00:00<?, ?it/s]"
      ]
     },
     "metadata": {},
     "output_type": "display_data"
    },
    {
     "name": "stderr",
     "output_type": "stream",
     "text": [
      "Using default `ModelCheckpoint`. Consider installing `litmodels` package to enable `LitModelCheckpoint` for automatic upload to the Lightning model registry.\n",
      "GPU available: False, used: False\n",
      "TPU available: False, using: 0 TPU cores\n",
      "HPU available: False, using: 0 HPUs\n"
     ]
    },
    {
     "data": {
      "application/vnd.jupyter.widget-view+json": {
       "model_id": "6f40003f469040c791e20da122411206",
       "version_major": 2,
       "version_minor": 0
      },
      "text/plain": [
       "Predicting: |          | 0/? [00:00<?, ?it/s]"
      ]
     },
     "metadata": {},
     "output_type": "display_data"
    },
    {
     "name": "stderr",
     "output_type": "stream",
     "text": [
      "Using default `ModelCheckpoint`. Consider installing `litmodels` package to enable `LitModelCheckpoint` for automatic upload to the Lightning model registry.\n",
      "GPU available: False, used: False\n",
      "TPU available: False, using: 0 TPU cores\n",
      "HPU available: False, using: 0 HPUs\n"
     ]
    },
    {
     "data": {
      "application/vnd.jupyter.widget-view+json": {
       "model_id": "e91c8d9a00c141b6b1d03580c4f516c4",
       "version_major": 2,
       "version_minor": 0
      },
      "text/plain": [
       "Predicting: |          | 0/? [00:00<?, ?it/s]"
      ]
     },
     "metadata": {},
     "output_type": "display_data"
    },
    {
     "name": "stderr",
     "output_type": "stream",
     "text": [
      "Using default `ModelCheckpoint`. Consider installing `litmodels` package to enable `LitModelCheckpoint` for automatic upload to the Lightning model registry.\n",
      "GPU available: False, used: False\n",
      "TPU available: False, using: 0 TPU cores\n",
      "HPU available: False, using: 0 HPUs\n"
     ]
    },
    {
     "data": {
      "application/vnd.jupyter.widget-view+json": {
       "model_id": "3ad988ff98c145ce8d41fc390ce0fb72",
       "version_major": 2,
       "version_minor": 0
      },
      "text/plain": [
       "Predicting: |          | 0/? [00:00<?, ?it/s]"
      ]
     },
     "metadata": {},
     "output_type": "display_data"
    },
    {
     "name": "stderr",
     "output_type": "stream",
     "text": [
      "/home/paperspace/SurvSHAREs/survshares/plot.py:42: RuntimeWarning: divide by zero encountered in log\n",
      "  return np.log(-np.log(1 - p))\n",
      "/home/paperspace/micromamba/envs/shares/lib/python3.11/site-packages/lifelines/fitters/mixins.py:20: RuntimeWarning: invalid value encountered in subtract\n",
      "  return self.relu(x - knot) ** 3 - (lambda_ * self.relu(x - min_knot) ** 3 + (1 - lambda_) * self.relu(x - max_knot) ** 3)\n"
     ]
    },
    {
     "name": "stdout",
     "output_type": "stream",
     "text": [
      "ICI =  0.10028583138762266\n",
      "E50 =  0.06269016093804985\n"
     ]
    },
    {
     "data": {
      "image/png": "[encoded data removed]",
      "text/plain": [
       "<Figure size 1200x800 with 5 Axes>"
      ]
     },
     "metadata": {},
     "output_type": "display_data"
    }
   ],
   "source": [
    "from lifelines import CoxPHFitter\n",
    "from survshares.metrics import (\n",
    "    c_index, \n",
    "    partial_likelihood,\n",
    "    integrated_brier,\n",
    "    negative_pll\n",
    ")\n",
    "import matplotlib.pyplot as plt \n",
    "from survshares.plot import survival_probability_calibration\n",
    "\n",
    "class EvalSymRegPH:\n",
    "    def __init__(self, model):\n",
    "        self.model = model\n",
    "\n",
    "    def score(self, X, T, E, sign=1):\n",
    "        y_pred = sign * self.model.predict(X)\n",
    "        h0_pred = self.model.compute_baseline_hazards(X, (T, E))\n",
    "        surv_pred = self.model.predict_surv_df(X)\n",
    "        print(f\"C-index: {c_index(T, y_pred, E)}\")\n",
    "        print(f\"pycox PLL: {partial_likelihood(T, y_pred, E)}\")\n",
    "        print(f\"torchsurv NPLL: {negative_pll(T, y_pred, E)}\")\n",
    "        print(f\"IBS: {integrated_brier(surv_pred, E, T)}\")\n",
    "\n",
    "    def plot_estimands(self, X, T, E, h0_scale_factor=1):\n",
    "        X_df = pd.DataFrame(X).assign(time=T, event=E)\n",
    "        cph = CoxPHFitter()\n",
    "        cph.fit(X_df, duration_col=\"time\", event_col=\"event\")\n",
    "\n",
    "        # This must run & store results in the symreg_cidx object before predict_cumulative_hazards can run\n",
    "        h0_pred = self.model.compute_baseline_hazards(X, (T, E))\n",
    "        h0_pred_scaled = h0_pred * h0_scale_factor\n",
    "        h0_true = cph.baseline_hazard_[\"baseline hazard\"]\n",
    "        h0_corr = h0_pred.corr(h0_true, method=\"pearson\")\n",
    "\n",
    "        H0_pred = self.model.compute_baseline_cumulative_hazards(\n",
    "            baseline_hazards_=h0_pred_scaled\n",
    "        )\n",
    "        H0_true = cph.baseline_cumulative_hazard_[\"baseline cumulative hazard\"]\n",
    "        H0_corr = H0_pred.corr(H0_true, method=\"pearson\")\n",
    "\n",
    "        # Select a random row in X\n",
    "        idx = np.random.randint(0, len(X) - 1)\n",
    "        X_star = X[idx : idx + 1]\n",
    "\n",
    "        H_pred = self.model.predict_cumulative_hazards(X_star, baseline_hazards_=h0_pred_scaled)[0]  # For a random row in X\n",
    "        H_true = cph.predict_cumulative_hazard(X_star)[0]\n",
    "        H_corr = H_pred.corr(H_true, method=\"pearson\")\n",
    "\n",
    "        S_pred = self.model.predict_surv(X_star, baseline_hazards_=h0_pred_scaled)[0]  # For a random row in X\n",
    "        S_true = cph.predict_survival_function(X_star)[0]\n",
    "        S_corr = pd.Series(S_pred).corr(S_true, method=\"pearson\")\n",
    "\n",
    "        surv_pred = self.model.predict_surv_df(X)\n",
    "\n",
    "        fig, ax = plt.subplots(2, 2, figsize=(12, 8))\n",
    "        ax = np.ravel(ax)\n",
    "\n",
    "        h0_dict = dict(symreg=h0_pred, cox=h0_true, delta=h0_pred_scaled - h0_true)\n",
    "        if h0_scale_factor != 1:\n",
    "            h0_dict[\"symreg_scaled\"] = h0_pred_scaled\n",
    "\n",
    "        pd.DataFrame(h0_dict).plot(ax=ax[0], title=f\"$h_0(t)$ - corr={h0_corr:.2f}\")\n",
    "        pd.DataFrame(dict(symreg=H_pred, cox=H_true, delta=H_pred - H_true)).plot(\n",
    "            ax=ax[1], title=f\"$H(t|x^*)$ - corr={H_corr:.2f}\"\n",
    "        )\n",
    "        pd.DataFrame(dict(symreg=S_pred, cox=S_true, delta=S_pred - S_true)).plot(\n",
    "            ax=ax[2], title=f\"$S(t|x^*)$ - corr={S_corr:.2f}\"\n",
    "        )\n",
    "\n",
    "        survival_probability_calibration(surv_pred, T+0.01, E, t0=(T+0.01).max(), ax=ax[3])\n",
    "\n",
    "EvalSymRegPH(model_wrapped).score(X, T, E)\n",
    "EvalSymRegPH(model_wrapped).plot_estimands(X,T,E)"
   ]
  }
 ],
 "metadata": {
  "kernelspec": {
   "display_name": "shares",
   "language": "python",
   "name": "python3"
  },
  "language_info": {
   "codemirror_mode": {
    "name": "ipython",
    "version": 3
   },
   "file_extension": ".py",
   "mimetype": "text/x-python",
   "name": "python",
   "nbconvert_exporter": "python",
   "pygments_lexer": "ipython3",
   "version": "3.11.12"
  }
 },
 "nbformat": 4,
 "nbformat_minor": 5
}
